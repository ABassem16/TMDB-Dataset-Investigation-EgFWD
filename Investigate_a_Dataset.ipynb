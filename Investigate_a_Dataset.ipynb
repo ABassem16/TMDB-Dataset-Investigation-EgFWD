{
 "cells": [
  {
   "cell_type": "markdown",
   "metadata": {},
   "source": [
    "# Project: TMDB Database Analysis\n",
    "\n",
    "## Introduction:\n",
    "This data set contains nearly 11,000 movies with every detail about the movie; budget, revenue cast, directors, released year, and many columns. This analysis aims to provide insights that helps seeing things that aren't visible or may be unnoticed.\n",
    "#### Research Questions:\n",
    "<ul>\n",
    "    <li><a href=\"#q1\">Year with highest release of movies</a></li>\n",
    "    <li><a href=\"#q2\">Movie with highest \\ lowest revenue, budget</a></li>\n",
    "    <li><a href=\"#q3\">The genre that generates the most revenue</a></li>\n",
    "    <li><a href=\"#q4\">Does runtime affect votes</a></li>\n",
    "    <li><a href=\"#q5\">Which year has the most revenue?</a></li>\n",
    "    <li><a href=\"#q6\">Which month generates the most popularity?</a></li>\n",
    "    <li><a href=\"#q7\">Top 10 directors that generate popularity</a></li>\n",
    "    <li><a href=\"#q8\">Top 10 genres that generate revenue</a></li>\n",
    "    <li><a href=\"#q9\">Highest average votes for 10 movies</a></li>\n",
    "    <li><a href=\"#q10\">Does the budget affect ratings?</a></li>\n",
    "    <li><a href=\"#q11\">Popularity Trending Over Time</a></li>\n",
    "    <li><a href=\"#q12\">Runtime Trending Over Time</a></li>\n",
    "</ul>    \n",
    "\n",
    "## Table of Contents\n",
    "<ul>\n",
    "<li><a href=\"#intro\">Introduction</a></li>\n",
    "<li><a href=\"#wrangling\">Data Wrangling</a></li>\n",
    "<li><a href=\"#eda\">Exploratory Data Analysis</a></li>\n",
    "<li><a href=\"#conclusions\">Conclusions</a></li>\n",
    "<li><a href=\"#limit\">Limitations</a></li>\n",
    "</ul>"
   ]
  },
  {
   "cell_type": "markdown",
   "metadata": {},
   "source": [
    "<a id='intro'></a>\n",
    "## Introduction\n",
    "I selected the IMDB database for this analysis, below is the cell for libraries used in this analysis."
   ]
  },
  {
   "cell_type": "code",
   "execution_count": 4,
   "metadata": {},
   "outputs": [],
   "source": [
    "import pandas as pd\n",
    "import numpy as np\n",
    "import matplotlib.pyplot as plt\n",
    "import seaborn as sns\n",
    "% matplotlib inline"
   ]
  },
  {
   "cell_type": "markdown",
   "metadata": {},
   "source": [
    "### Required Function"
   ]
  },
  {
   "cell_type": "code",
   "execution_count": 1,
   "metadata": {},
   "outputs": [],
   "source": [
    "def addLabelsOnGraphs(xlabel,ylabel,title,plt):\n",
    "    #adding title to plot\n",
    "    plt.title(title)\n",
    "    #adding x-axis label to plot\n",
    "    plt.xlabel(xlabel)\n",
    "    #adding y-axis label to plot\n",
    "    plt.ylabel(ylabel)\n",
    "    return plt"
   ]
  },
  {
   "cell_type": "markdown",
   "metadata": {},
   "source": [
    "<a id='wrangling'></a>\n",
    "## Data Wrangling\n",
    "\n",
    "### General Properties"
   ]
  },
  {
   "cell_type": "code",
   "execution_count": 5,
   "metadata": {},
   "outputs": [],
   "source": [
    "df = pd.read_csv('tmdb-movies.csv')"
   ]
  },
  {
   "cell_type": "markdown",
   "metadata": {},
   "source": [
    "## Changed release_date type to datetime instead of string"
   ]
  },
  {
   "cell_type": "code",
   "execution_count": 6,
   "metadata": {},
   "outputs": [],
   "source": [
    "#changing column datatype from string to datetime\n",
    "df['release_date'] = pd.to_datetime(df['release_date'])"
   ]
  },
  {
   "cell_type": "markdown",
   "metadata": {},
   "source": [
    "### Data Cleaning (Replace this with more specific notes!)\n",
    "\n",
    "##### Dropped homepage; too many NaNs low count in comparison with total amount of rows, also its irrelevant.\n",
    "##### Dropped id, imdbID; no use for them in this analysis.\n",
    "##### Dropped keywords, tagline; no use for them\n"
   ]
  },
  {
   "cell_type": "code",
   "execution_count": 7,
   "metadata": {},
   "outputs": [],
   "source": [
    "#dropping columns\n",
    "df.drop(['tagline','homepage','keywords','id','imdb_id'],axis=1,inplace=True)"
   ]
  },
  {
   "cell_type": "code",
   "execution_count": 6,
   "metadata": {},
   "outputs": [
    {
     "data": {
      "text/html": [
       "<div>\n",
       "<style scoped>\n",
       "    .dataframe tbody tr th:only-of-type {\n",
       "        vertical-align: middle;\n",
       "    }\n",
       "\n",
       "    .dataframe tbody tr th {\n",
       "        vertical-align: top;\n",
       "    }\n",
       "\n",
       "    .dataframe thead th {\n",
       "        text-align: right;\n",
       "    }\n",
       "</style>\n",
       "<table border=\"1\" class=\"dataframe\">\n",
       "  <thead>\n",
       "    <tr style=\"text-align: right;\">\n",
       "      <th></th>\n",
       "      <th>popularity</th>\n",
       "      <th>budget</th>\n",
       "      <th>revenue</th>\n",
       "      <th>original_title</th>\n",
       "      <th>cast</th>\n",
       "      <th>director</th>\n",
       "      <th>overview</th>\n",
       "      <th>runtime</th>\n",
       "      <th>genres</th>\n",
       "      <th>production_companies</th>\n",
       "      <th>release_date</th>\n",
       "      <th>vote_count</th>\n",
       "      <th>vote_average</th>\n",
       "      <th>release_year</th>\n",
       "      <th>budget_adj</th>\n",
       "      <th>revenue_adj</th>\n",
       "    </tr>\n",
       "  </thead>\n",
       "  <tbody>\n",
       "    <tr>\n",
       "      <th>0</th>\n",
       "      <td>32.985763</td>\n",
       "      <td>150000000</td>\n",
       "      <td>1513528810</td>\n",
       "      <td>Jurassic World</td>\n",
       "      <td>Chris Pratt|Bryce Dallas Howard|Irrfan Khan|Vi...</td>\n",
       "      <td>Colin Trevorrow</td>\n",
       "      <td>Twenty-two years after the events of Jurassic ...</td>\n",
       "      <td>124</td>\n",
       "      <td>Action|Adventure|Science Fiction|Thriller</td>\n",
       "      <td>Universal Studios|Amblin Entertainment|Legenda...</td>\n",
       "      <td>2015-06-09</td>\n",
       "      <td>5562</td>\n",
       "      <td>6.5</td>\n",
       "      <td>2015</td>\n",
       "      <td>1.379999e+08</td>\n",
       "      <td>1.392446e+09</td>\n",
       "    </tr>\n",
       "    <tr>\n",
       "      <th>1</th>\n",
       "      <td>28.419936</td>\n",
       "      <td>150000000</td>\n",
       "      <td>378436354</td>\n",
       "      <td>Mad Max: Fury Road</td>\n",
       "      <td>Tom Hardy|Charlize Theron|Hugh Keays-Byrne|Nic...</td>\n",
       "      <td>George Miller</td>\n",
       "      <td>An apocalyptic story set in the furthest reach...</td>\n",
       "      <td>120</td>\n",
       "      <td>Action|Adventure|Science Fiction|Thriller</td>\n",
       "      <td>Village Roadshow Pictures|Kennedy Miller Produ...</td>\n",
       "      <td>2015-05-13</td>\n",
       "      <td>6185</td>\n",
       "      <td>7.1</td>\n",
       "      <td>2015</td>\n",
       "      <td>1.379999e+08</td>\n",
       "      <td>3.481613e+08</td>\n",
       "    </tr>\n",
       "    <tr>\n",
       "      <th>2</th>\n",
       "      <td>13.112507</td>\n",
       "      <td>110000000</td>\n",
       "      <td>295238201</td>\n",
       "      <td>Insurgent</td>\n",
       "      <td>Shailene Woodley|Theo James|Kate Winslet|Ansel...</td>\n",
       "      <td>Robert Schwentke</td>\n",
       "      <td>Beatrice Prior must confront her inner demons ...</td>\n",
       "      <td>119</td>\n",
       "      <td>Adventure|Science Fiction|Thriller</td>\n",
       "      <td>Summit Entertainment|Mandeville Films|Red Wago...</td>\n",
       "      <td>2015-03-18</td>\n",
       "      <td>2480</td>\n",
       "      <td>6.3</td>\n",
       "      <td>2015</td>\n",
       "      <td>1.012000e+08</td>\n",
       "      <td>2.716190e+08</td>\n",
       "    </tr>\n",
       "    <tr>\n",
       "      <th>3</th>\n",
       "      <td>11.173104</td>\n",
       "      <td>200000000</td>\n",
       "      <td>2068178225</td>\n",
       "      <td>Star Wars: The Force Awakens</td>\n",
       "      <td>Harrison Ford|Mark Hamill|Carrie Fisher|Adam D...</td>\n",
       "      <td>J.J. Abrams</td>\n",
       "      <td>Thirty years after defeating the Galactic Empi...</td>\n",
       "      <td>136</td>\n",
       "      <td>Action|Adventure|Science Fiction|Fantasy</td>\n",
       "      <td>Lucasfilm|Truenorth Productions|Bad Robot</td>\n",
       "      <td>2015-12-15</td>\n",
       "      <td>5292</td>\n",
       "      <td>7.5</td>\n",
       "      <td>2015</td>\n",
       "      <td>1.839999e+08</td>\n",
       "      <td>1.902723e+09</td>\n",
       "    </tr>\n",
       "    <tr>\n",
       "      <th>4</th>\n",
       "      <td>9.335014</td>\n",
       "      <td>190000000</td>\n",
       "      <td>1506249360</td>\n",
       "      <td>Furious 7</td>\n",
       "      <td>Vin Diesel|Paul Walker|Jason Statham|Michelle ...</td>\n",
       "      <td>James Wan</td>\n",
       "      <td>Deckard Shaw seeks revenge against Dominic Tor...</td>\n",
       "      <td>137</td>\n",
       "      <td>Action|Crime|Thriller</td>\n",
       "      <td>Universal Pictures|Original Film|Media Rights ...</td>\n",
       "      <td>2015-04-01</td>\n",
       "      <td>2947</td>\n",
       "      <td>7.3</td>\n",
       "      <td>2015</td>\n",
       "      <td>1.747999e+08</td>\n",
       "      <td>1.385749e+09</td>\n",
       "    </tr>\n",
       "  </tbody>\n",
       "</table>\n",
       "</div>"
      ],
      "text/plain": [
       "   popularity     budget     revenue                original_title  \\\n",
       "0   32.985763  150000000  1513528810                Jurassic World   \n",
       "1   28.419936  150000000   378436354            Mad Max: Fury Road   \n",
       "2   13.112507  110000000   295238201                     Insurgent   \n",
       "3   11.173104  200000000  2068178225  Star Wars: The Force Awakens   \n",
       "4    9.335014  190000000  1506249360                     Furious 7   \n",
       "\n",
       "                                                cast          director  \\\n",
       "0  Chris Pratt|Bryce Dallas Howard|Irrfan Khan|Vi...   Colin Trevorrow   \n",
       "1  Tom Hardy|Charlize Theron|Hugh Keays-Byrne|Nic...     George Miller   \n",
       "2  Shailene Woodley|Theo James|Kate Winslet|Ansel...  Robert Schwentke   \n",
       "3  Harrison Ford|Mark Hamill|Carrie Fisher|Adam D...       J.J. Abrams   \n",
       "4  Vin Diesel|Paul Walker|Jason Statham|Michelle ...         James Wan   \n",
       "\n",
       "                                            overview  runtime  \\\n",
       "0  Twenty-two years after the events of Jurassic ...      124   \n",
       "1  An apocalyptic story set in the furthest reach...      120   \n",
       "2  Beatrice Prior must confront her inner demons ...      119   \n",
       "3  Thirty years after defeating the Galactic Empi...      136   \n",
       "4  Deckard Shaw seeks revenge against Dominic Tor...      137   \n",
       "\n",
       "                                      genres  \\\n",
       "0  Action|Adventure|Science Fiction|Thriller   \n",
       "1  Action|Adventure|Science Fiction|Thriller   \n",
       "2         Adventure|Science Fiction|Thriller   \n",
       "3   Action|Adventure|Science Fiction|Fantasy   \n",
       "4                      Action|Crime|Thriller   \n",
       "\n",
       "                                production_companies release_date  vote_count  \\\n",
       "0  Universal Studios|Amblin Entertainment|Legenda...   2015-06-09        5562   \n",
       "1  Village Roadshow Pictures|Kennedy Miller Produ...   2015-05-13        6185   \n",
       "2  Summit Entertainment|Mandeville Films|Red Wago...   2015-03-18        2480   \n",
       "3          Lucasfilm|Truenorth Productions|Bad Robot   2015-12-15        5292   \n",
       "4  Universal Pictures|Original Film|Media Rights ...   2015-04-01        2947   \n",
       "\n",
       "   vote_average  release_year    budget_adj   revenue_adj  \n",
       "0           6.5          2015  1.379999e+08  1.392446e+09  \n",
       "1           7.1          2015  1.379999e+08  3.481613e+08  \n",
       "2           6.3          2015  1.012000e+08  2.716190e+08  \n",
       "3           7.5          2015  1.839999e+08  1.902723e+09  \n",
       "4           7.3          2015  1.747999e+08  1.385749e+09  "
      ]
     },
     "execution_count": 6,
     "metadata": {},
     "output_type": "execute_result"
    }
   ],
   "source": [
    "df.head()"
   ]
  },
  {
   "cell_type": "code",
   "execution_count": 8,
   "metadata": {},
   "outputs": [
    {
     "data": {
      "text/plain": [
       "popularity                 0\n",
       "budget                     0\n",
       "revenue                    0\n",
       "original_title             0\n",
       "cast                      76\n",
       "director                  44\n",
       "overview                   4\n",
       "runtime                    0\n",
       "genres                    23\n",
       "production_companies    1030\n",
       "release_date               0\n",
       "vote_count                 0\n",
       "vote_average               0\n",
       "release_year               0\n",
       "budget_adj                 0\n",
       "revenue_adj                0\n",
       "dtype: int64"
      ]
     },
     "execution_count": 8,
     "metadata": {},
     "output_type": "execute_result"
    }
   ],
   "source": [
    "#counting the sum of nulls\n",
    "df.isnull().sum()"
   ]
  },
  {
   "cell_type": "markdown",
   "metadata": {},
   "source": [
    "### Dropping missing rows in cast, director, genres, overview"
   ]
  },
  {
   "cell_type": "code",
   "execution_count": 9,
   "metadata": {},
   "outputs": [],
   "source": [
    "#dropping null values\n",
    "df.dropna(subset=['cast','director','genres','overview'],inplace=True)"
   ]
  },
  {
   "cell_type": "code",
   "execution_count": 8,
   "metadata": {},
   "outputs": [
    {
     "data": {
      "text/plain": [
       "popularity                0\n",
       "budget                    0\n",
       "revenue                   0\n",
       "original_title            0\n",
       "cast                      0\n",
       "director                  0\n",
       "overview                  0\n",
       "runtime                   0\n",
       "genres                    0\n",
       "production_companies    957\n",
       "release_date              0\n",
       "vote_count                0\n",
       "vote_average              0\n",
       "release_year              0\n",
       "budget_adj                0\n",
       "revenue_adj               0\n",
       "dtype: int64"
      ]
     },
     "execution_count": 8,
     "metadata": {},
     "output_type": "execute_result"
    }
   ],
   "source": [
    "df.isnull().sum()"
   ]
  },
  {
   "cell_type": "markdown",
   "metadata": {},
   "source": [
    "### Filling column production_companies null values with forward filling, as it has too many null values so the rows shouldn't be dropped in my opinion"
   ]
  },
  {
   "cell_type": "code",
   "execution_count": 10,
   "metadata": {},
   "outputs": [],
   "source": [
    "#forward filling the missing values\n",
    "df['production_companies'].ffill(inplace=True)"
   ]
  },
  {
   "cell_type": "code",
   "execution_count": 10,
   "metadata": {},
   "outputs": [
    {
     "data": {
      "text/plain": [
       "popularity              0\n",
       "budget                  0\n",
       "revenue                 0\n",
       "original_title          0\n",
       "cast                    0\n",
       "director                0\n",
       "overview                0\n",
       "runtime                 0\n",
       "genres                  0\n",
       "production_companies    0\n",
       "release_date            0\n",
       "vote_count              0\n",
       "vote_average            0\n",
       "release_year            0\n",
       "budget_adj              0\n",
       "revenue_adj             0\n",
       "dtype: int64"
      ]
     },
     "execution_count": 10,
     "metadata": {},
     "output_type": "execute_result"
    }
   ],
   "source": [
    "df.isnull().sum()"
   ]
  },
  {
   "cell_type": "code",
   "execution_count": 11,
   "metadata": {},
   "outputs": [
    {
     "data": {
      "text/plain": [
       "(10730, 16)"
      ]
     },
     "execution_count": 11,
     "metadata": {},
     "output_type": "execute_result"
    }
   ],
   "source": [
    "df.shape"
   ]
  },
  {
   "cell_type": "markdown",
   "metadata": {},
   "source": [
    "### Dropping Duplicates (1 row)"
   ]
  },
  {
   "cell_type": "code",
   "execution_count": 11,
   "metadata": {},
   "outputs": [],
   "source": [
    "#dropping duplicates\n",
    "df.drop_duplicates(inplace=True)"
   ]
  },
  {
   "cell_type": "code",
   "execution_count": 12,
   "metadata": {},
   "outputs": [
    {
     "data": {
      "text/plain": [
       "0"
      ]
     },
     "execution_count": 12,
     "metadata": {},
     "output_type": "execute_result"
    }
   ],
   "source": [
    "sum(df.duplicated())"
   ]
  },
  {
   "cell_type": "code",
   "execution_count": 14,
   "metadata": {},
   "outputs": [
    {
     "data": {
      "text/plain": [
       "popularity                     float64\n",
       "budget                           int64\n",
       "revenue                          int64\n",
       "original_title                  object\n",
       "cast                            object\n",
       "director                        object\n",
       "overview                        object\n",
       "runtime                          int64\n",
       "genres                          object\n",
       "production_companies            object\n",
       "release_date            datetime64[ns]\n",
       "vote_count                       int64\n",
       "vote_average                   float64\n",
       "release_year                     int64\n",
       "budget_adj                     float64\n",
       "revenue_adj                    float64\n",
       "dtype: object"
      ]
     },
     "execution_count": 14,
     "metadata": {},
     "output_type": "execute_result"
    }
   ],
   "source": [
    "df.dtypes"
   ]
  },
  {
   "cell_type": "markdown",
   "metadata": {},
   "source": [
    "<a id='eda'></a>\n",
    "## Exploratory Data Analysis\n",
    "\n",
    "<a id='q1'></a>\n",
    "### Research Question 1 (Year with highest release of movies)"
   ]
  },
  {
   "cell_type": "code",
   "execution_count": 12,
   "metadata": {},
   "outputs": [
    {
     "name": "stdout",
     "output_type": "stream",
     "text": [
      "The year 2014 has the most released movies count with an amount of 682\n"
     ]
    }
   ],
   "source": [
    "#counting values for each year\n",
    "movieYearSeries=df['release_year'].value_counts()\n",
    "print('The year {} has the most released movies count with an amount of {}'.format(movieYearSeries.index[0],movieYearSeries.values[0]))"
   ]
  },
  {
   "cell_type": "markdown",
   "metadata": {},
   "source": [
    "<a id='q2'></a>\n",
    "### Research Question 2: Movie with highest \\ lowest revenue, budget\n",
    "\n",
    "#### Created cleanDf for this question as there are many rows that has no revenue or budget so I created a new dataframe with subset of the data for this question\n",
    "#### Also, I had an alternative idea which I don't know if it would work or not, i thought of getting the average revenue for the missing movies revenue by getting the average of the year in which the movie was released."
   ]
  },
  {
   "cell_type": "code",
   "execution_count": 14,
   "metadata": {},
   "outputs": [
    {
     "data": {
      "text/plain": [
       "(3849, 16)"
      ]
     },
     "execution_count": 14,
     "metadata": {},
     "output_type": "execute_result"
    }
   ],
   "source": [
    "#removing 0 budget/revenue movies from the dataset as they are misleading\n",
    "cleanDf=df[df.revenue>0]\n",
    "cleanDf=cleanDf[cleanDf.budget>0]\n",
    "cleanDf.shape"
   ]
  },
  {
   "cell_type": "code",
   "execution_count": 15,
   "metadata": {},
   "outputs": [
    {
     "name": "stdout",
     "output_type": "stream",
     "text": [
      "The movie that generated the most revenue is: Avatar \n",
      "The movie generated: 2781505847$\n"
     ]
    }
   ],
   "source": [
    "#getting the movie with highest revenue\n",
    "maxRev=cleanDf[cleanDf.revenue==cleanDf.revenue.max()]\n",
    "title = maxRev['original_title'].item()\n",
    "rev = maxRev['revenue'].item()\n",
    "print('The movie that generated the most revenue is: {} \\nThe movie generated: {}$'.format(title,rev))"
   ]
  },
  {
   "cell_type": "code",
   "execution_count": 16,
   "metadata": {},
   "outputs": [
    {
     "name": "stdout",
     "output_type": "stream",
     "text": [
      "The movie that had the highest budget is: The Warrior's Way \n",
      "Movie's Budget: 11087569$\n"
     ]
    }
   ],
   "source": [
    "#getting the movie with highest budget\n",
    "maxBudget=cleanDf[cleanDf.budget==cleanDf.budget.max()]\n",
    "title = maxBudget['original_title'].item()\n",
    "budget = maxBudget['revenue'].item()\n",
    "print('The movie that had the highest budget is: {} \\nMovie\\'s Budget: {}$'.format(title,budget))"
   ]
  },
  {
   "cell_type": "code",
   "execution_count": 17,
   "metadata": {
    "scrolled": true
   },
   "outputs": [
    {
     "data": {
      "text/html": [
       "<div>\n",
       "<style scoped>\n",
       "    .dataframe tbody tr th:only-of-type {\n",
       "        vertical-align: middle;\n",
       "    }\n",
       "\n",
       "    .dataframe tbody tr th {\n",
       "        vertical-align: top;\n",
       "    }\n",
       "\n",
       "    .dataframe thead th {\n",
       "        text-align: right;\n",
       "    }\n",
       "</style>\n",
       "<table border=\"1\" class=\"dataframe\">\n",
       "  <thead>\n",
       "    <tr style=\"text-align: right;\">\n",
       "      <th></th>\n",
       "      <th>popularity</th>\n",
       "      <th>budget</th>\n",
       "      <th>revenue</th>\n",
       "      <th>original_title</th>\n",
       "      <th>cast</th>\n",
       "      <th>director</th>\n",
       "      <th>overview</th>\n",
       "      <th>runtime</th>\n",
       "      <th>genres</th>\n",
       "      <th>production_companies</th>\n",
       "      <th>release_date</th>\n",
       "      <th>vote_count</th>\n",
       "      <th>vote_average</th>\n",
       "      <th>release_year</th>\n",
       "      <th>budget_adj</th>\n",
       "      <th>revenue_adj</th>\n",
       "    </tr>\n",
       "  </thead>\n",
       "  <tbody>\n",
       "    <tr>\n",
       "      <th>2618</th>\n",
       "      <td>0.090186</td>\n",
       "      <td>1</td>\n",
       "      <td>100</td>\n",
       "      <td>Lost &amp; Found</td>\n",
       "      <td>David Spade|Sophie Marceau|Ever Carradine|Step...</td>\n",
       "      <td>Jeff Pollack</td>\n",
       "      <td>A comedy about finding your true love at any p...</td>\n",
       "      <td>95</td>\n",
       "      <td>Comedy|Romance</td>\n",
       "      <td>Alcon Entertainment|Dinamo Entertainment</td>\n",
       "      <td>1999-04-23</td>\n",
       "      <td>14</td>\n",
       "      <td>4.8</td>\n",
       "      <td>1999</td>\n",
       "      <td>1.309053</td>\n",
       "      <td>130.905285</td>\n",
       "    </tr>\n",
       "    <tr>\n",
       "      <th>3581</th>\n",
       "      <td>0.520430</td>\n",
       "      <td>1</td>\n",
       "      <td>1378</td>\n",
       "      <td>Love, Wedding, Marriage</td>\n",
       "      <td>Mandy Moore|Kellan Lutz|Jessica Szohr|Autumn F...</td>\n",
       "      <td>Dermot Mulroney</td>\n",
       "      <td>A happy newlywed marriage counselor's views on...</td>\n",
       "      <td>90</td>\n",
       "      <td>Comedy|Romance</td>\n",
       "      <td>120dB Films|Scion Films|Voodoo Production Serv...</td>\n",
       "      <td>2011-06-03</td>\n",
       "      <td>55</td>\n",
       "      <td>5.3</td>\n",
       "      <td>2011</td>\n",
       "      <td>0.969398</td>\n",
       "      <td>1335.830503</td>\n",
       "    </tr>\n",
       "  </tbody>\n",
       "</table>\n",
       "</div>"
      ],
      "text/plain": [
       "      popularity  budget  revenue           original_title  \\\n",
       "2618    0.090186       1      100             Lost & Found   \n",
       "3581    0.520430       1     1378  Love, Wedding, Marriage   \n",
       "\n",
       "                                                   cast         director  \\\n",
       "2618  David Spade|Sophie Marceau|Ever Carradine|Step...     Jeff Pollack   \n",
       "3581  Mandy Moore|Kellan Lutz|Jessica Szohr|Autumn F...  Dermot Mulroney   \n",
       "\n",
       "                                               overview  runtime  \\\n",
       "2618  A comedy about finding your true love at any p...       95   \n",
       "3581  A happy newlywed marriage counselor's views on...       90   \n",
       "\n",
       "              genres                               production_companies  \\\n",
       "2618  Comedy|Romance           Alcon Entertainment|Dinamo Entertainment   \n",
       "3581  Comedy|Romance  120dB Films|Scion Films|Voodoo Production Serv...   \n",
       "\n",
       "     release_date  vote_count  vote_average  release_year  budget_adj  \\\n",
       "2618   1999-04-23          14           4.8          1999    1.309053   \n",
       "3581   2011-06-03          55           5.3          2011    0.969398   \n",
       "\n",
       "      revenue_adj  \n",
       "2618   130.905285  \n",
       "3581  1335.830503  "
      ]
     },
     "execution_count": 17,
     "metadata": {},
     "output_type": "execute_result"
    }
   ],
   "source": [
    "#getting the movie with lowest budget\n",
    "cleanDf[cleanDf.budget==cleanDf.budget.min()]"
   ]
  },
  {
   "cell_type": "markdown",
   "metadata": {},
   "source": [
    "#### 2 Movies had the lowest Budget, Lost & Found and Love,Wedding,Marriage."
   ]
  },
  {
   "cell_type": "code",
   "execution_count": 18,
   "metadata": {},
   "outputs": [
    {
     "name": "stdout",
     "output_type": "stream",
     "text": [
      "The movie that generated the most revenue is: Avatar \n",
      "The movie generated: 2781505847$\n"
     ]
    }
   ],
   "source": [
    "#getting the movie with lowest revenue\n",
    "cleanDf[cleanDf.revenue==cleanDf.revenue.min()]\n",
    "title = maxRev['original_title'].item()\n",
    "rev = maxRev['revenue'].item()\n",
    "print('The movie that generated the most revenue is: {} \\nThe movie generated: {}$'.format(title,rev))"
   ]
  },
  {
   "cell_type": "markdown",
   "metadata": {},
   "source": [
    "<a id='q3'></a>\n",
    "### Research Question 3: The genre that generates the most revenue"
   ]
  },
  {
   "cell_type": "code",
   "execution_count": 21,
   "metadata": {},
   "outputs": [
    {
     "name": "stdout",
     "output_type": "stream",
     "text": [
      "The Action genre is the genre that generates the most revenue with 63 movies, money generated: 682330139$.\n"
     ]
    }
   ],
   "source": [
    "genreDf=df.groupby(['genres'])\n",
    "genre=genreDf.revenue.max().index[0]\n",
    "money=genreDf.revenue.max().values[0]\n",
    "moviesCount=df.query('genres == \"' + genre + '\"').count()[0]\n",
    "print('The {} genre is the genre that generates the most revenue with {} movies, money generated: {}$.'.format(genre,moviesCount,money))"
   ]
  },
  {
   "cell_type": "markdown",
   "metadata": {},
   "source": [
    "<a id='q4'></a>\n",
    "### Research Question 4: Does runtime affect votes?"
   ]
  },
  {
   "cell_type": "code",
   "execution_count": 19,
   "metadata": {
    "scrolled": true
   },
   "outputs": [
    {
     "data": {
      "image/png": "[encoded data removed]",
      "text/plain": [
       "<matplotlib.figure.Figure at 0x7f0f981d7860>"
      ]
     },
     "metadata": {
      "needs_background": "light"
     },
     "output_type": "display_data"
    }
   ],
   "source": [
    "df.plot.scatter('runtime','vote_count');\n",
    "addLabelsOnGraphs('Runtime','Votes','Count of votes for different runtime',plt);"
   ]
  },
  {
   "cell_type": "markdown",
   "metadata": {},
   "source": [
    "### Higher runtime movies has low vote counts, while low runtime movies has variable vote_counts"
   ]
  },
  {
   "cell_type": "markdown",
   "metadata": {},
   "source": [
    "<a id='q5'></a>\n",
    "### Research Question 5: Which year has the most revenue?"
   ]
  },
  {
   "cell_type": "code",
   "execution_count": 33,
   "metadata": {},
   "outputs": [
    {
     "data": {
      "image/png": "[encoded data removed]",
      "text/plain": [
       "<matplotlib.figure.Figure at 0x7f0f97c9a080>"
      ]
     },
     "metadata": {
      "needs_background": "light"
     },
     "output_type": "display_data"
    }
   ],
   "source": [
    "mean=df.groupby('release_year')['revenue_adj'].mean().plot()\n",
    "addLabelsOnGraphs('Release Year','Revenue (100M Dollars)','Movies\\' Revenue from 1960 till 2015',plt);"
   ]
  },
  {
   "cell_type": "markdown",
   "metadata": {},
   "source": [
    "### I used the revenue_adj column as it counts for inflation which should be more accurate than normal revenue. Movies revenue Peaked between "
   ]
  },
  {
   "cell_type": "markdown",
   "metadata": {},
   "source": [
    "<a id='q6'></a>\n",
    "### Research Question 6: Which month generates the most popularity?"
   ]
  },
  {
   "cell_type": "code",
   "execution_count": 20,
   "metadata": {
    "scrolled": true
   },
   "outputs": [
    {
     "data": {
      "text/plain": [
       "<module 'matplotlib.pyplot' from '/opt/conda/lib/python3.6/site-packages/matplotlib/pyplot.py'>"
      ]
     },
     "execution_count": 20,
     "metadata": {},
     "output_type": "execute_result"
    },
    {
     "data": {
      "image/png": "[encoded data removed]",
      "text/plain": [
       "<matplotlib.figure.Figure at 0x7f0f9820d5c0>"
      ]
     },
     "metadata": {
      "needs_background": "light"
     },
     "output_type": "display_data"
    }
   ],
   "source": [
    "df['month'] = pd.DatetimeIndex(df['release_date']).month\n",
    "df.groupby('month').popularity.mean().plot(kind='bar');\n",
    "addLabelsOnGraphs('Month','Popularity','Popularity of movies released by month',plt)"
   ]
  },
  {
   "cell_type": "markdown",
   "metadata": {},
   "source": [
    "### June generates the most popularity for movies, while movies that are released in January has the lowest popularity."
   ]
  },
  {
   "cell_type": "markdown",
   "metadata": {},
   "source": [
    "<a id='q7'></a>\n",
    "### Research Question 7: Top 10 directors that generate popularity"
   ]
  },
  {
   "cell_type": "code",
   "execution_count": 21,
   "metadata": {
    "scrolled": true
   },
   "outputs": [
    {
     "data": {
      "text/plain": [
       "<module 'matplotlib.pyplot' from '/opt/conda/lib/python3.6/site-packages/matplotlib/pyplot.py'>"
      ]
     },
     "execution_count": 21,
     "metadata": {},
     "output_type": "execute_result"
    },
    {
     "data": {
      "image/png": "[encoded data removed]",
      "text/plain": [
       "<matplotlib.figure.Figure at 0x7f0f9810a978>"
      ]
     },
     "metadata": {
      "needs_background": "light"
     },
     "output_type": "display_data"
    }
   ],
   "source": [
    "df.groupby('director').popularity.max().sort_values(ascending=False)[0:10].plot(kind='bar');\n",
    "addLabelsOnGraphs('Directors','Popularity','Popularity of movies based on directors',plt)"
   ]
  },
  {
   "cell_type": "markdown",
   "metadata": {},
   "source": [
    "### Collin Treverrow is the movie director that directed popular movies."
   ]
  },
  {
   "cell_type": "markdown",
   "metadata": {},
   "source": [
    "<a id='q8'></a>\n",
    "### Research Question 8: Top 10 genres that generate revenue"
   ]
  },
  {
   "cell_type": "code",
   "execution_count": 34,
   "metadata": {
    "scrolled": true
   },
   "outputs": [
    {
     "data": {
      "image/png": "[encoded data removed]",
      "text/plain": [
       "<matplotlib.figure.Figure at 0x7f0f97c0cc50>"
      ]
     },
     "metadata": {
      "needs_background": "light"
     },
     "output_type": "display_data"
    }
   ],
   "source": [
    "df.groupby('genres').revenue.max().sort_values(ascending=False)[0:10].plot(kind='bar');\n",
    "addLabelsOnGraphs('Genres','Revenue (1000M Dollars)','Genres that generated maximum revenues',plt);"
   ]
  },
  {
   "cell_type": "markdown",
   "metadata": {},
   "source": [
    "### The genre that generated the most revenue is: Action|Adventure|Fantasy|Science Fiction"
   ]
  },
  {
   "cell_type": "markdown",
   "metadata": {},
   "source": [
    "<a id='q9'></a>\n",
    "### Research Question 9: Highest average votes for 10 movies"
   ]
  },
  {
   "cell_type": "code",
   "execution_count": 25,
   "metadata": {
    "scrolled": true
   },
   "outputs": [
    {
     "data": {
      "image/png": "[encoded data removed]",
      "text/plain": [
       "<matplotlib.figure.Figure at 0x7f0f980ac8d0>"
      ]
     },
     "metadata": {
      "needs_background": "light"
     },
     "output_type": "display_data"
    }
   ],
   "source": [
    "df.groupby('original_title').vote_average.max().sort_values(ascending=False)[0:10].plot(kind='bar');\n",
    "addLabelsOnGraphs('Movies','Average Votes','Highest Rated Movies based on Average Votes',plt);"
   ]
  },
  {
   "cell_type": "markdown",
   "metadata": {},
   "source": [
    "### This plot shows highest rated movies in this dataset."
   ]
  },
  {
   "cell_type": "markdown",
   "metadata": {},
   "source": [
    "<a id='q10'></a>\n",
    "### Research Question 10: Does the budget affect ratings?"
   ]
  },
  {
   "cell_type": "code",
   "execution_count": 19,
   "metadata": {},
   "outputs": [
    {
     "data": {
      "text/plain": [
       "6.1306915306915313"
      ]
     },
     "execution_count": 19,
     "metadata": {},
     "output_type": "execute_result"
    }
   ],
   "source": [
    "#dividing the dataset into two sets; movies with higher budget than the average\n",
    "high_budget=cleanDf[cleanDf['budget'] > cleanDf['budget'].mean()]\n",
    "high_budget.vote_average.mean()"
   ]
  },
  {
   "cell_type": "code",
   "execution_count": 20,
   "metadata": {},
   "outputs": [
    {
     "data": {
      "text/plain": [
       "6.1877829820452774"
      ]
     },
     "execution_count": 20,
     "metadata": {},
     "output_type": "execute_result"
    }
   ],
   "source": [
    "#dividing the dataset into two sets; movies with lower budget than the average\n",
    "low_budget=cleanDf[cleanDf['budget'] < cleanDf['budget'].mean()]\n",
    "low_budget.vote_average.mean()"
   ]
  },
  {
   "cell_type": "markdown",
   "metadata": {},
   "source": [
    "### There is nearly no differnce between low budget movies and high budget movies."
   ]
  },
  {
   "cell_type": "markdown",
   "metadata": {},
   "source": [
    "<a id='q11'></a>\n",
    "### Research Question 11: Popularity Trending Over Time"
   ]
  },
  {
   "cell_type": "code",
   "execution_count": 26,
   "metadata": {},
   "outputs": [
    {
     "data": {
      "image/png": "[encoded data removed]",
      "text/plain": [
       "<matplotlib.figure.Figure at 0x7f0f980ac780>"
      ]
     },
     "metadata": {
      "needs_background": "light"
     },
     "output_type": "display_data"
    }
   ],
   "source": [
    "mean=df.groupby('release_year')['popularity'].mean().plot()\n",
    "addLabelsOnGraphs('Release Year','Popularity','Movies\\' Popularity from 1960 till 2015',plt);"
   ]
  },
  {
   "cell_type": "markdown",
   "metadata": {},
   "source": [
    "<a id='q12'></a>\n",
    "### Research Question 12: Runtime Trending Over Time"
   ]
  },
  {
   "cell_type": "code",
   "execution_count": 31,
   "metadata": {},
   "outputs": [
    {
     "data": {
      "text/plain": [
       "<module 'matplotlib.pyplot' from '/opt/conda/lib/python3.6/site-packages/matplotlib/pyplot.py'>"
      ]
     },
     "execution_count": 31,
     "metadata": {},
     "output_type": "execute_result"
    },
    {
     "data": {
      "image/png": "[encoded data removed]",
      "text/plain": [
       "<matplotlib.figure.Figure at 0x7f0f980a5208>"
      ]
     },
     "metadata": {
      "needs_background": "light"
     },
     "output_type": "display_data"
    }
   ],
   "source": [
    "mean=df.groupby('release_year')['runtime'].mean().plot()\n",
    "addLabelsOnGraphs('Release Year','Runtime in Minutes','Movies\\' Runtime from 1960 till 2015',plt)"
   ]
  },
  {
   "cell_type": "markdown",
   "metadata": {},
   "source": [
    "<a id='conclusions'></a>\n",
    "## Conclusions\n",
    "In the first phase of this analysis, I started with cleaning the data; removing extra columns, filling missing data and removing missing rows.\n",
    "The second phase is the insights in this dataset, which showed:\n",
    "That 2014 had the most released number of movies. <br>\n",
    "The highest revenue movie is Avatar.<br>\n",
    "The highest budget movie is The Warrior's Way<br>\n",
    "The lowest budget movie was shared between 2 movies: Lost & Found - Love, Wedding, Marriage.<br>\n",
    "The action genre is the most genre that generated revenue.<br>\n",
    "The scatter plot showed that high runtime movies has very low vote counts, while normal runtime movies had a variation in vote counts.<br>\n",
    "The line chart between release year and revenue_adj showed that movies revenue peaked between 1970 and 1980.<br>\n",
    "June has a higher chance for a movie to be popular while January has the lowest popularity.<br>\n",
    "Collin Treverrow is the director that generates the most popularity for movies.<br>\n",
    "The genre that generated the most revenue is: Action|Adventure|Fantasy|Science Fiction.<br>\n",
    "Highest average votes for a movie is The Story of Film: An Odyssey.<br>\n",
    "The difference between high budget movies and low budget movies in ratings is very low based on this dataset.<br>\n",
    "Movies Popularity started increasing greatly since 2010. <br>\n",
    "Movies runtime decreased greatly over time. <br>"
   ]
  },
  {
   "cell_type": "markdown",
   "metadata": {},
   "source": [
    "<a id='limit'></a>\n",
    "## Limitations\n",
    "1- Missing Values in too many columns with a high number of missing rows which had to be either dropped or filled.<br>\n",
    "2- This analysis doesn't involve statistical inference.<br>\n",
    "3- budget and revenue aren't specified to a currency so I assumed it in dollars.<br>"
   ]
  },
  {
   "cell_type": "code",
   "execution_count": 21,
   "metadata": {},
   "outputs": [
    {
     "data": {
      "text/plain": [
       "0"
      ]
     },
     "execution_count": 21,
     "metadata": {},
     "output_type": "execute_result"
    }
   ],
   "source": [
    "from subprocess import call\n",
    "call(['python', '-m', 'nbconvert', 'Investigate_a_Dataset.ipynb'])"
   ]
  }
 ],
 "metadata": {
  "kernelspec": {
   "display_name": "Python 3",
   "language": "python",
   "name": "python3"
  },
  "language_info": {
   "codemirror_mode": {
    "name": "ipython",
    "version": 3
   },
   "file_extension": ".py",
   "mimetype": "text/x-python",
   "name": "python",
   "nbconvert_exporter": "python",
   "pygments_lexer": "ipython3",
   "version": "3.6.3"
  }
 },
 "nbformat": 4,
 "nbformat_minor": 2
}
